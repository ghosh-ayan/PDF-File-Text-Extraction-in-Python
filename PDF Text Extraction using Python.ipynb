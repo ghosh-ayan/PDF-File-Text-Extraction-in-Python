{
 "cells": [
  {
   "cell_type": "markdown",
   "id": "d91ef219",
   "metadata": {},
   "source": [
    "## Using PyPDF2"
   ]
  },
  {
   "cell_type": "code",
   "execution_count": 1,
   "id": "9c4737fe",
   "metadata": {},
   "outputs": [],
   "source": [
    "import PyPDF2"
   ]
  },
  {
   "cell_type": "code",
   "execution_count": 22,
   "id": "2dd3e7e8",
   "metadata": {
    "scrolled": true
   },
   "outputs": [
    {
     "name": "stdout",
     "output_type": "stream",
     "text": [
      "Total Number of Pages in the PDF document: 21\n",
      "--------------------------\n",
      "Document INFORMATION: \n",
      "\n",
      "{'/CreationDate': \"D:20121203125806+01'00'\", '/Author': 'lt2278', '/Creator': 'PScript5.dll Version 5.2.2', '/Producer': 'Acrobat Distiller 7.0 (Windows)', '/ModDate': \"D:20121203125806+01'00'\", '/Title': 'Microsoft Word - 10 zsohar.doc'}\n",
      "--------------------------\n",
      "Contents of Page 0:\n",
      "\n",
      " HUNGARIAN STATISTICAL REVIEW, SPECIAL NUMBER 16  \n",
      "Short Introduction to the Generalized Method \n",
      "of Moments∗ \n",
      "  \n",
      "\n",
      "Peter Zsohar \n",
      "PhD Student \n",
      "Central European University \n",
      "E-mail:  \n",
      "zsohar_peter@ceu-budapest.edu \n",
      "  The generalized method of moments (GMM) is the \n",
      "centrepiece of semiparametric estimation frameworks. \n",
      "After putting GMM into context and familiarizing the \n",
      "reader with the main principles behind the method, we \n",
      "discuss the estimation procedure and the properties of \n",
      "the GMM estimator in details. We also provide a short \n",
      "survey of recent research areas in the field. To facili-\n",
      "tate understanding, most concepts are illustrated by \n",
      "simple examples. \n",
      " \n",
      "K\n",
      "EYWORDS:  \n",
      "GMM.  \n",
      "Semiparametric Estimation. \n",
      " \n",
      " \n",
      " \n",
      "∗ Acknowledgements: The author wants to thank both Laszlo Hunyadi, Editor-In-Chief of the Hungarian \n",
      "Statistical Review and Sergei Lychagin referee, Assistant Professor of the Central European University for their \n",
      "helpful comments which have improved the study. All remaining errors are the author’s. \n"
     ]
    }
   ],
   "source": [
    "with open('GMM_Basics.pdf', 'rb') as f:\n",
    "    reader = PyPDF2.PdfReader(f) # Not using the strict parameter raises a warning sometimes.\n",
    "    num_pages = reader.numPages\n",
    "    print(f'Total Number of Pages in the PDF document: {num_pages}')\n",
    "    print('--------------------------')\n",
    "    print('Document INFORMATION: \\n')\n",
    "    print(reader.documentInfo)\n",
    "    print('--------------------------')\n",
    "    page_num = 0\n",
    "    print(f'Contents of Page {page_num}:\\n')\n",
    "    page1 = reader.pages[page_num]\n",
    "    print(page1.extract_text())"
   ]
  },
  {
   "cell_type": "markdown",
   "id": "28200eec",
   "metadata": {},
   "source": [
    "## Using pdfminer "
   ]
  },
  {
   "cell_type": "code",
   "execution_count": 8,
   "id": "eaab17b5",
   "metadata": {},
   "outputs": [],
   "source": [
    "from pdfminer.high_level import extract_text"
   ]
  },
  {
   "cell_type": "code",
   "execution_count": 9,
   "id": "f5ba1480",
   "metadata": {},
   "outputs": [
    {
     "name": "stdout",
     "output_type": "stream",
     "text": [
      "Short Introduction to the Generalized Method \n",
      "of Moments∗ \n",
      "\n",
      "Peter Zsohar \n",
      "PhD Student \n",
      "Central European University \n",
      "\n",
      "E-mail:  \n",
      "zsohar_peter@ceu-budapest.edu \n",
      "\n",
      "The generalized method of moments (GMM) is the \n",
      "centrepiece of semiparametric estimation frameworks. \n",
      "After putting GMM into context and familiarizing the \n",
      "reader with the main principles behind the method, we \n",
      "discuss the estimation procedure and the properties of \n",
      "the GMM estimator in details. We also provide a short \n",
      "survey  of  recent  research  areas  in  the  field.  To  facili-\n",
      "tate  understanding,  most  concepts  are  illustrated  by \n",
      "simple examples. \n",
      "\n",
      "KEYWORDS:  \n",
      "GMM.  \n",
      "Semiparametric Estimation. \n",
      "\n",
      "∗ Acknowledgements: The author wants to thank both Laszlo Hunyadi, Editor-In-Chief of the Hungarian \n",
      "Statistical Review and Sergei Lychagin referee, Assistant Professor of the Central European University for their \n",
      "helpful comments which have improved the study. All remaining errors are the author’s. \n",
      "\n",
      "HUNGARIAN STATISTICAL REVIEW, SPECIAL NUMBER 16 \n",
      "\n",
      " \n",
      " \n",
      " \n",
      " \n",
      " \n",
      " \n",
      " \n",
      " \n",
      "\f",
      "\n"
     ]
    }
   ],
   "source": [
    "text = extract_text('GMM_Basics.pdf', page_numbers = [0])\n",
    "print(text)"
   ]
  },
  {
   "cell_type": "code",
   "execution_count": 18,
   "id": "2d83e933",
   "metadata": {},
   "outputs": [
    {
     "name": "stdout",
     "output_type": "stream",
     "text": [
      "Total Number of pages in the PDF Document: 601\n",
      "\n",
      " Ralph Kimball founded the Kimball Group. Since the mid-1980s, he has been the \n",
      "data warehouse and business intelligence industry’s thought leader on the dimen-\n",
      "sional approach. He has educated tens of thousands of IT professionals. The Toolkit \n",
      "books written by Ralph and his colleagues have been the industry’s best sellers \n",
      "since 1996. Prior to working at Metaphor and founding Red Brick Systems, Ralph \n",
      "coinvented the Star workstation, the ﬁ rst commercial product with windows, icons, \n",
      "and a mouse, at Xerox’s Palo Alto Research Center (PARC). Ralph has a PhD in \n",
      "electrical engineering from Stanford University.\n",
      "Margy Ross is president of the Kimball Group. She has focused exclusively on data \n",
      "warehousing and business intelligence since 1982 with an emphasis on business \n",
      "requirements and dimensional modeling. Like Ralph, Margy has taught the dimen-\n",
      "sional best practices to thousands of students; she also coauthored ﬁ ve Toolkit books \n",
      "with Ralph. Margy previously worked at Metaphor and cofounded DecisionWorks \n",
      "Consulting. She graduated with a BS in industrial engineering from Northwestern \n",
      "University.About the Authors\n"
     ]
    }
   ],
   "source": [
    "with open('Kimball_The-Data-Warehouse-Toolkit-3rd-Edition.pdf', 'rb') as f:\n",
    "    reader = PyPDF2.PdfReader(f)\n",
    "    print(f'Total Number of pages in the PDF Document: {reader.numPages}\\n')\n",
    "    page1 = reader.pages[6]\n",
    "    print(page1.extract_text())"
   ]
  },
  {
   "cell_type": "code",
   "execution_count": 19,
   "id": "2f9551a1",
   "metadata": {},
   "outputs": [
    {
     "name": "stdout",
     "output_type": "stream",
     "text": [
      "About the Authors\n",
      "\n",
      "Ralph Kimball founded the Kimball Group. Since the mid-1980s, he has been the \n",
      "data warehouse and business intelligence industry’s thought leader on the dimen-\n",
      "sional approach. He has educated tens of thousands of IT professionals. The Toolkit \n",
      "books written by Ralph and his colleagues have been the industry’s best sellers \n",
      "since 1996. Prior to working at Metaphor and founding Red Brick Systems, Ralph \n",
      "coinvented the Star workstation, the ﬁ rst commercial product with windows, icons, \n",
      "and a mouse, at Xerox’s Palo Alto Research Center (PARC). Ralph has a PhD in \n",
      "electrical engineering from Stanford University.\n",
      "\n",
      "Margy Ross is president of the Kimball Group. She has focused exclusively on data \n",
      "warehousing and business intelligence since 1982 with an emphasis on business \n",
      "requirements and dimensional modeling. Like Ralph, Margy has taught the dimen-\n",
      "sional best practices to thousands of students; she also coauthored ﬁ ve Toolkit books \n",
      "with Ralph. Margy previously worked at Metaphor and cofounded DecisionWorks \n",
      "Consulting. She graduated with a BS in industrial engineering from Northwestern \n",
      "University.\n",
      "\n",
      "\f",
      "\n"
     ]
    }
   ],
   "source": [
    "text = extract_text('Kimball_The-Data-Warehouse-Toolkit-3rd-Edition.pdf', page_numbers = [6])\n",
    "print(text)"
   ]
  },
  {
   "cell_type": "markdown",
   "id": "3bd24aa8",
   "metadata": {},
   "source": [
    "## Observations\n",
    "\n",
    "- `pdfminer` lets you do the entire text extraction in one or two lines of code. `PyPDF2` does not take a lot of effort either, but possibly slightly more verbose.\n",
    "- The final rendered print output from `pdfminer` seems to be a slightly better than that of PyPDF2 in terms of spacing, interpreting footers as headers properly, etc.\n",
    "- For some of the pages (e.g. title page that is more or less consisting of an image), neither the `pdfminer` nor the `PyPDF2` could extract the text. More specialized libraries for OCR might be required to handle such pages.\n",
    "\n",
    "In order to read more complex PDFs with images and using OCR to read and concatenate all text within bounding boxes and then perform named Entity Recognition on it, watch the following video and associated videos from the same channel. Create a separate repo for this project.\n",
    "https://www.youtube.com/watch?v=bcmEMcEzV9M"
   ]
  }
 ],
 "metadata": {
  "kernelspec": {
   "display_name": "Python 3 (ipykernel)",
   "language": "python",
   "name": "python3"
  },
  "language_info": {
   "codemirror_mode": {
    "name": "ipython",
    "version": 3
   },
   "file_extension": ".py",
   "mimetype": "text/x-python",
   "name": "python",
   "nbconvert_exporter": "python",
   "pygments_lexer": "ipython3",
   "version": "3.8.12"
  }
 },
 "nbformat": 4,
 "nbformat_minor": 5
}
